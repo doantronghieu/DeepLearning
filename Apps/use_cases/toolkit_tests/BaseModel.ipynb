{
 "cells": [
  {
   "cell_type": "code",
   "execution_count": null,
   "metadata": {},
   "outputs": [],
   "source": [
    "import torch\n",
    "import torch.nn as nn\n",
    "\n",
    "class YourNeuralNetworkModel(nn.Module):\n",
    "    def __init__(self, input_dim, hidden_dim, output_dim):\n",
    "        super().__init__()\n",
    "        self.output_dim = output_dim\n",
    "        self.layers = nn.Sequential(\n",
    "            nn.Linear(input_dim, hidden_dim),\n",
    "            nn.ReLU(),\n",
    "            nn.Linear(hidden_dim, output_dim)\n",
    "        )\n",
    "\n",
    "    def forward(self, x):\n",
    "        return self.layers(x)\n",
    "\n",
    "# Assuming you have your data ready\n",
    "X_train, y_train, X_test, y_test = ...  # Your data here\n",
    "\n",
    "input_dim = X_train.shape[1]\n",
    "hidden_dim = 64\n",
    "output_dim = len(np.unique(y_train))\n",
    "\n",
    "model = YourNeuralNetworkModel(input_dim, hidden_dim, output_dim)\n",
    "optimizer = torch.optim.Adam(model.parameters())\n",
    "loss_fn = nn.CrossEntropyLoss()\n",
    "data = (X_train, y_train, X_test, y_test)\n",
    "device = torch.device('cuda' if torch.cuda.is_available() else 'cpu')\n",
    "\n",
    "base_model = BaseModel(model, optimizer, loss_fn, data, \"YourModelName\", device, seed=42)\n",
    "base_model.train(epochs=100, learning_rate=0.001, batch_size=32)\n",
    "base_model.plot_metric('loss')\n",
    "base_model.plot_metric('accuracy')\n",
    "\n",
    "test_loss, test_acc = base_model.evaluate(mode='test')\n",
    "print(f\"Test Loss: {test_loss:.4f}, Test Accuracy: {test_acc:.4f}\")\n",
    "\n",
    "base_model.save(\"models/your_model_name/checkpoint.pth\")\n",
    "\n",
    "# Later, you can load the model:\n",
    "base_model.load(\"models/your_model_name/checkpoint.pth\")\n",
    "\n",
    "# For inference:\n",
    "new_data = ...  # Your new data here\n",
    "predictions, probabilities = base_model.inference(new_data)"
   ]
  }
 ],
 "metadata": {
  "language_info": {
   "name": "python"
  }
 },
 "nbformat": 4,
 "nbformat_minor": 2
}
